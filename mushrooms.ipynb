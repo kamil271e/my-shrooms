{
 "cells": [
  {
   "cell_type": "markdown",
   "id": "3b9117a3-dcc7-428f-9218-76d0de915299",
   "metadata": {},
   "source": [
    "# Mushroom classification\n",
    "In this notebook I'll be comparing different ML models and its accuracy in simple image classification task. Dataset consist of 9 different classes of mushrooms."
   ]
  },
  {
   "cell_type": "code",
   "execution_count": 2,
   "id": "c1cfff1b-eccf-4f3b-a3a7-a27a8c51c199",
   "metadata": {},
   "outputs": [],
   "source": [
    "import plotting\n",
    "import os\n",
    "import matplotlib.pyplot as plt\n",
    "import seaborn as sns\n",
    "import shutil\n",
    "from NetUtils import NetUtils\n",
    "util = NetUtils()\n",
    "plt.style.use('ggplot')"
   ]
  },
  {
   "cell_type": "markdown",
   "id": "c8cff08f-9b6a-4d55-9e05-0ee53ea36a3c",
   "metadata": {
    "tags": []
   },
   "source": [
    "## Preparing the data"
   ]
  },
  {
   "cell_type": "code",
   "execution_count": 3,
   "id": "5af57c09-e24a-4580-948d-195a02488016",
   "metadata": {},
   "outputs": [],
   "source": [
    "def create_dir(directory):\n",
    "    if os.path.exists(directory):\n",
    "        return\n",
    "    os.mkdir(directory)\n",
    "\n",
    "def copy_file(src_path, dst_path, file):\n",
    "    src = os.path.join(src_path, file)\n",
    "    dst = os.path.join(dst_path, file)\n",
    "    shutil.copy(src, dst)"
   ]
  },
  {
   "cell_type": "code",
   "execution_count": 4,
   "id": "bde6a50b-097f-4c8c-9fc3-c09aab01ac24",
   "metadata": {},
   "outputs": [
    {
     "data": {
      "image/png": "[encoded data removed]",
      "text/plain": [
       "<Figure size 1000x600 with 1 Axes>"
      ]
     },
     "metadata": {},
     "output_type": "display_data"
    }
   ],
   "source": [
    "dataset_dir = 'Mushrooms'\n",
    "classes = os.listdir(dataset_dir)\n",
    "x = []\n",
    "y = []\n",
    "for cl in classes:\n",
    "    class_length = len(os.listdir(f'{dataset_dir}/{cl}'))\n",
    "    x.append(cl)\n",
    "    y.append(class_length)\n",
    "plt.figure(figsize=(10,6))\n",
    "sns.barplot(x=x, y=y)\n",
    "plt.title(\"Classes distribution\")\n",
    "plt.show()"
   ]
  },
  {
   "cell_type": "markdown",
   "id": "c5baef1d-6b78-4eee-a947-d7987932c207",
   "metadata": {},
   "source": [
    "As we can see we need to deal with imbalanced data here. \n",
    "<!-- (Therefore let's use class weighting technique.)-->"
   ]
  },
  {
   "cell_type": "code",
   "execution_count": 5,
   "id": "e1230c92-9929-4b2b-bb80-24a217a7df9e",
   "metadata": {},
   "outputs": [],
   "source": [
    "base_dir = 'mushrooms'\n",
    "train_dir = os.path.join(base_dir, 'train')\n",
    "val_dir = os.path.join(base_dir, 'validation')\n",
    "test_dir = os.path.join(base_dir, 'test')\n",
    "\n",
    "create_dir(base_dir)\n",
    "create_dir(train_dir)\n",
    "create_dir(val_dir)\n",
    "create_dir(test_dir)\n",
    "\n",
    "for parent_dir in [train_dir, test_dir, val_dir]:\n",
    "    for cl in classes:\n",
    "        create_dir(f'{parent_dir}/{cl}')"
   ]
  },
  {
   "cell_type": "code",
   "execution_count": 6,
   "id": "d6bf07b1-1554-4c07-993f-f8a6066ddb8e",
   "metadata": {},
   "outputs": [],
   "source": [
    "train_percentage = 0.8\n",
    "val_percentage = 0.1\n",
    "test_percentage = 0.1\n",
    "train_samples = 0\n",
    "val_samples = 0\n",
    "test_samples = 0"
   ]
  },
  {
   "cell_type": "code",
   "execution_count": 7,
   "id": "6965a698-799c-4e0a-85ff-567f8540419b",
   "metadata": {},
   "outputs": [],
   "source": [
    "for cl in classes:\n",
    "    img_directories = os.listdir(f'{dataset_dir}/{cl}')    \n",
    "    \n",
    "    class_length = len(img_directories)\n",
    "    train_length = int(train_percentage * class_length)\n",
    "    val_length = int(val_percentage * class_length)\n",
    "    test_length = class_length - train_length - val_length\n",
    "    \n",
    "    train_samples += train_length\n",
    "    val_samples += val_length\n",
    "    test_samples += test_length\n",
    "    \n",
    "    src = f'{dataset_dir}/{cl}'\n",
    "    dst = f'{train_dir}/{cl}'\n",
    "    for img in img_directories[:train_length]: # TRAIN\n",
    "        copy_file(src, dst, img)\n",
    "    \n",
    "    dst = f'{val_dir}/{cl}'\n",
    "    for img in img_directories[train_length : train_length+val_length]: # VALIDATION\n",
    "        copy_file(src, dst, img)\n",
    "        \n",
    "    dst = f'{test_dir}/{cl}'\n",
    "    for img in img_directories[train_length+val_length:]: # TEST\n",
    "        copy_file(src, dst, img)"
   ]
  },
  {
   "cell_type": "code",
   "execution_count": 8,
   "id": "6d28fb6e-a4d5-490f-a398-94ac7cf10c67",
   "metadata": {},
   "outputs": [],
   "source": [
    "BATCH_SIZE = 32\n",
    "TRAIN_DATASET_LEN = train_samples\n",
    "VAL_DATASET_LEN = val_samples\n",
    "TEST_DATASET_LEN = train_samples\n",
    "STEPS_PER_EPOCH = TRAIN_DATASET_LEN // BATCH_SIZE\n",
    "VALIDATION_STEPS = VAL_DATASET_LEN // BATCH_SIZE\n",
    "EPOCHS = 20\n",
    "NUM_CLASSES = 9"
   ]
  },
  {
   "cell_type": "markdown",
   "id": "7b0f3cff-753c-4d93-b604-f5839a03a7eb",
   "metadata": {
    "tags": []
   },
   "source": [
    "## Simple CNN model"
   ]
  },
  {
   "cell_type": "code",
   "execution_count": 19,
   "id": "ac0886a5-1502-408c-b432-e5915edbaa6c",
   "metadata": {},
   "outputs": [
    {
     "name": "stdout",
     "output_type": "stream",
     "text": [
      "Found 5367 images belonging to 9 classes.\n",
      "Found 668 images belonging to 9 classes.\n",
      "Found 679 images belonging to 9 classes.\n"
     ]
    }
   ],
   "source": [
    "from SimpleCNN import SimpleCNN\n",
    "cnn = SimpleCNN(input_shape=(150,150,3), num_classes=NUM_CLASSES)\n",
    "cnn.create_generators(train_dir, val_dir, test_dir, batch_size=BATCH_SIZE, data_augm=True)\n",
    "cnn.create_callbacks('cnn.h5')"
   ]
  },
  {
   "cell_type": "code",
   "execution_count": null,
   "id": "1a0e1578-335b-47fd-bf2f-345527ea008a",
   "metadata": {},
   "outputs": [],
   "source": [
    "history = cnn.train(steps_per_epoch=STEPS_PER_EPOCH,\n",
    "                         epochs=EPOCHS,\n",
    "                         validation_steps=VALIDATION_STEPS)"
   ]
  },
  {
   "cell_type": "code",
   "execution_count": null,
   "id": "59513ba8-b6ac-4615-b6a0-5b71a4eb47d3",
   "metadata": {},
   "outputs": [],
   "source": [
    "print(cnn.clf_report())"
   ]
  },
  {
   "cell_type": "markdown",
   "id": "74ad4eb8-143c-495f-ae0a-1adac1709b70",
   "metadata": {
    "tags": []
   },
   "source": [
    "## VGG16"
   ]
  },
  {
   "cell_type": "code",
   "execution_count": 12,
   "id": "2a667908-d8e0-49bb-97c6-e3b45911769b",
   "metadata": {},
   "outputs": [
    {
     "name": "stdout",
     "output_type": "stream",
     "text": [
      "Found 5367 images belonging to 9 classes.\n",
      "Found 668 images belonging to 9 classes.\n",
      "Found 679 images belonging to 9 classes.\n"
     ]
    }
   ],
   "source": [
    "from VGG import VGG\n",
    "vgg = VGG(input_shape=(150,150,3), num_classes=NUM_CLASSES) #,load_weights='vgg16.h5')\n",
    "vgg.create_generators(train_dir, val_dir, test_dir, batch_size=BATCH_SIZE, data_augm=True)\n",
    "vgg.create_callbacks('vgg16.h5')"
   ]
  },
  {
   "cell_type": "code",
   "execution_count": null,
   "id": "c1932cad-467a-4291-ba12-815b6f6f16be",
   "metadata": {},
   "outputs": [],
   "source": [
    "history = vgg.train(steps_per_epoch=STEPS_PER_EPOCH,\n",
    "                   epochs=EPOCHS,\n",
    "                   validation_steps=VALIDATION_STEPS)"
   ]
  },
  {
   "cell_type": "code",
   "execution_count": null,
   "id": "02bc8ce6-fc6a-43f6-82cc-8234be9cb430",
   "metadata": {},
   "outputs": [],
   "source": [
    "plotting.loss_plot(history.history)\n",
    "plotting.acc_plot(history.history)"
   ]
  },
  {
   "cell_type": "markdown",
   "id": "745413e9-7a41-435e-8255-bd590556718e",
   "metadata": {
    "tags": []
   },
   "source": [
    "#### Trying to work with 'extract features' approach"
   ]
  },
  {
   "cell_type": "code",
   "execution_count": 9,
   "id": "1de2feb5-27b8-4e0b-a83a-7d2bd81c55b4",
   "metadata": {},
   "outputs": [],
   "source": [
    "import numpy as np\n",
    "from keras.models import Sequential\n",
    "from keras.layers import Dense, Dropout, BatchNormalization, Flatten\n",
    "from keras.optimizers import Adam\n",
    "from tensorflow.keras import regularizers\n",
    "from keras.applications import VGG16\n",
    "from keras.preprocessing.image import ImageDataGenerator\n",
    "from PIL import ImageFile\n",
    "ImageFile.LOAD_TRUNCATED_IMAGES = True\n",
    "\n",
    "conv_base = VGG16(weights='imagenet', include_top=False, input_shape=(150,150,3))"
   ]
  },
  {
   "cell_type": "code",
   "execution_count": null,
   "id": "2d0fd202-b4f0-4227-b23a-865ff805c429",
   "metadata": {},
   "outputs": [],
   "source": [
    "train_features, train_labels = util.extract_features(conv_base, train_dir, (150,150), TRAIN_DATASET_LEN)\n",
    "val_features, val_labels = util.extract_features(conv_base, val_dir, (150,150), VAL_DATASET_LEN)\n",
    "test_features, test_labels = util.extract_features(conv_base, test_dir, (150,150), TEST_DATASET_LEN-1)"
   ]
  },
  {
   "cell_type": "code",
   "execution_count": null,
   "id": "a3637a4a-559f-4241-b824-05defa138658",
   "metadata": {},
   "outputs": [],
   "source": [
    "train_features = np.reshape(train_features, (TRAIN_DATASET_LEN, 4*4*512))\n",
    "val_features = np.reshape(val_features, (VAL_DATASET_LEN, 4*4*512))\n",
    "test_features = np.reshape(test_features, (TEST_DATASET_LEN-1, 4*4*512))"
   ]
  },
  {
   "cell_type": "code",
   "execution_count": null,
   "id": "a058e675-0a3e-4f6f-b91c-ddc9b6d3123d",
   "metadata": {},
   "outputs": [],
   "source": [
    "dense_clf = Sequential([\n",
    "    Flatten(),\n",
    "    Dense(256, kernel_regularizer=regularizers.L1L2(l1=1e-5, l2=1e-4),\n",
    "          bias_regularizer=regularizers.L2(1e-4),\n",
    "          activity_regularizer=regularizers.L2(1e-5),\n",
    "          activation='relu'),\n",
    "    BatchNormalization(),\n",
    "    #Dense(128, activation='relu'),\n",
    "    #Dense(128, activation='relu'),\n",
    "    #Dense(128, activation='relu'),\n",
    "    #BatchNormalization(),\n",
    "    #Dropout(0.5),\n",
    "    Dense(9, activation='softmax')\n",
    "])\n",
    "#dense_clf.load_weights('dense_clf_mushrooms.h5')\n",
    "dense_clf.compile(loss='categorical_crossentropy', optimizer=Adam(learning_rate=1e-4), metrics=['accuracy'])"
   ]
  },
  {
   "cell_type": "code",
   "execution_count": null,
   "id": "aede679b-2e56-4c0d-a84b-9903a6a6790b",
   "metadata": {},
   "outputs": [],
   "source": [
    "history = dense_clf.fit(\n",
    "    train_features,\n",
    "    train_labels,\n",
    "    epochs=20,\n",
    "    batch_size=BATCH_SIZE,\n",
    "    validation_data=(val_features, val_labels)\n",
    ")"
   ]
  },
  {
   "cell_type": "code",
   "execution_count": null,
   "id": "ae67c114-1fb2-4d64-8110-a9c4b820c5f7",
   "metadata": {},
   "outputs": [],
   "source": [
    "history_dict = history.history\n",
    "plotting.loss_plot(history_dict)\n",
    "plotting.acc_plot(history_dict)"
   ]
  },
  {
   "cell_type": "markdown",
   "id": "59698d3a-d99f-41c8-a940-326a57dbddf2",
   "metadata": {
    "tags": []
   },
   "source": [
    "## MobileNet"
   ]
  },
  {
   "cell_type": "code",
   "execution_count": null,
   "id": "ca941a94-db2c-4643-a4ba-2f108ae4f72f",
   "metadata": {},
   "outputs": [],
   "source": [
    "from MobileNet import MobileNet\n",
    "\n",
    "mobilenet = MobileNet(input_shape=(224,224,3), num_classes=NUM_CLASSES)\n",
    "mobilenet.create_generators(train_dir, val_dir, test_dir, batch_size=16)\n",
    "mobilenet.create_callbacks('mobilenet.h5')"
   ]
  },
  {
   "cell_type": "code",
   "execution_count": null,
   "id": "1c086f73-ae28-48af-af15-595b097b80dc",
   "metadata": {},
   "outputs": [],
   "source": [
    "history = mobilenet.train(steps_per_epoch=STEPS_PER_EPOCH,\n",
    "               epochs=EPOCHS,\n",
    "               validation_steps=VALIDATION_STEPS)"
   ]
  },
  {
   "cell_type": "markdown",
   "id": "b8d9a994-9f21-452a-970c-9b6d9ac507fc",
   "metadata": {
    "tags": []
   },
   "source": [
    "#### testing extract features technique"
   ]
  },
  {
   "cell_type": "code",
   "execution_count": null,
   "id": "ff031b92-aa56-4eac-94bc-020b36c29794",
   "metadata": {},
   "outputs": [],
   "source": [
    "mobilenet_base = MobileNet(weights='imagenet', include_top=False, input_shape=(150,150,3))"
   ]
  },
  {
   "cell_type": "code",
   "execution_count": null,
   "id": "32e2fdc1-0ffc-4568-88b5-67ca18f89e71",
   "metadata": {},
   "outputs": [],
   "source": [
    "datagen = ImageDataGenerator(rescale=1./255)\n",
    "train_features, train_labels = extract_features(mobilenet_base, train_dir, 4697)\n",
    "val_features, val_labels = extract_features(mobilenet_base, val_dir, 1000)\n",
    "test_features, test_labels = extract_features(mobilenet_base, test_dir, 1000)"
   ]
  },
  {
   "cell_type": "code",
   "execution_count": null,
   "id": "6361a89c-7776-42fc-a041-bccda1b38108",
   "metadata": {},
   "outputs": [],
   "source": [
    "lambda_coef = 0.001\n",
    "\n",
    "model = Sequential([\n",
    "    Flatten(),\n",
    "    Dense(256, activation='relu', kernel_regularizer=regularizers.l2(lambda_coef)),\n",
    "    Dense(128, activation='relu', kernel_regularizer=regularizers.l2(lambda_coef)),\n",
    "    Dropout(0.5),\n",
    "    Dense(9, activation='softmax')\n",
    "])\n",
    "model.compile(loss='categorical_crossentropy', optimizer='adam', metrics=['accuracy'])"
   ]
  },
  {
   "cell_type": "code",
   "execution_count": null,
   "id": "d07482ba-72f9-4b3a-8c1c-54487f1764e0",
   "metadata": {},
   "outputs": [],
   "source": [
    "history = model.fit(\n",
    "    train_features, \n",
    "    train_labels, \n",
    "    epochs=30, \n",
    "    batch_size=20, \n",
    "    validation_data=(val_features, val_labels)\n",
    ")"
   ]
  },
  {
   "cell_type": "code",
   "execution_count": null,
   "id": "3c021e1a-4f74-4ad4-a11c-5446bacdcde2",
   "metadata": {},
   "outputs": [],
   "source": [
    "history_dict = history.history\n",
    "plotting.loss_plot(history_dict, epochs=30)\n",
    "plotting.acc_plot(history_dict, epochs=30)"
   ]
  },
  {
   "cell_type": "markdown",
   "id": "19073d9d-66cb-4671-8965-5f840636e996",
   "metadata": {
    "tags": []
   },
   "source": [
    "## Resnet50"
   ]
  },
  {
   "cell_type": "code",
   "execution_count": null,
   "id": "7f67e234-5acb-4f06-b190-67cc64042e5e",
   "metadata": {},
   "outputs": [],
   "source": [
    "from ResNet import ResNet\n",
    "resnet = ResNet(input_shape=(150,150,3), num_classes=NUM_CLASSES)\n",
    "resnet.create_generators(train_dir, val_dir, test_dir, batch_size=16)\n",
    "resnet.create_callbacks('resnet.h5')\n",
    "history = resnet.train(steps_per_epoch=STEPS_PER_EPOCH,\n",
    "                       epochs=EPOCHS,\n",
    "                       validation_steps=VALIDATION_STEPS)"
   ]
  },
  {
   "cell_type": "markdown",
   "id": "ee3c0ae0-9990-43a5-815b-48e726e9cd8d",
   "metadata": {
    "tags": []
   },
   "source": [
    "## EfficientNetB7"
   ]
  },
  {
   "cell_type": "code",
   "execution_count": null,
   "id": "24a963ce-fba4-4bf4-9897-e51d7ca3e55d",
   "metadata": {},
   "outputs": [],
   "source": [
    "from EfficientNet import EfficientNet\n",
    "effnet = EfficientNet(input_shape=(150,150,3), num_classes=9)\n",
    "effnet.create_generators(train_dir, val_dir, test_dir, batch_size=16)\n",
    "#effnet.create_callbacks('effnet.h5') # Does not work with callbacks - bug\n",
    "effnet.summary()"
   ]
  },
  {
   "cell_type": "code",
   "execution_count": null,
   "id": "a9c63757-2538-44b2-baec-2e312884ceb8",
   "metadata": {},
   "outputs": [],
   "source": [
    "history = effnet.train(steps_per_epoch=100, epochs=30, validation_steps=16)"
   ]
  }
 ],
 "metadata": {
  "kernelspec": {
   "display_name": "Python 3 (ipykernel)",
   "language": "python",
   "name": "python3"
  },
  "language_info": {
   "codemirror_mode": {
    "name": "ipython",
    "version": 3
   },
   "file_extension": ".py",
   "mimetype": "text/x-python",
   "name": "python",
   "nbconvert_exporter": "python",
   "pygments_lexer": "ipython3",
   "version": "3.10.10"
  }
 },
 "nbformat": 4,
 "nbformat_minor": 5
}
